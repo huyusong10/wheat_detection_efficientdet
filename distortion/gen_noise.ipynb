{
 "metadata": {
  "language_info": {
   "codemirror_mode": {
    "name": "ipython",
    "version": 3
   },
   "file_extension": ".py",
   "mimetype": "text/x-python",
   "name": "python",
   "nbconvert_exporter": "python",
   "pygments_lexer": "ipython3",
   "version": "3.6.5-final"
  },
  "orig_nbformat": 2,
  "kernelspec": {
   "name": "python36564bitpython3venve238cb695fa2440d96032de4cf926f5f",
   "display_name": "Python 3.6.5 64-bit ('python3': venv)"
  }
 },
 "nbformat": 4,
 "nbformat_minor": 2,
 "cells": [
  {
   "cell_type": "code",
   "execution_count": 1,
   "metadata": {},
   "outputs": [],
   "source": [
    "from distort import distort\n",
    "import pandas\n",
    "import numpy as np\n",
    "import pandas as pd\n",
    "from tqdm import tqdm\n",
    "import torch\n",
    "from torch.utils.data import Dataset"
   ]
  },
  {
   "cell_type": "code",
   "execution_count": 2,
   "metadata": {},
   "outputs": [],
   "source": [
    "input_dir = '/home/huys/wheat_detection'\n",
    "ori_df = pd.read_csv('{}/train.csv'.format(input_dir))\n",
    "new = pd.DataFrame(columns = ['image_id', 'width', 'height', 'bbox', 'source'])"
   ]
  },
  {
   "cell_type": "code",
   "execution_count": 3,
   "metadata": {},
   "outputs": [],
   "source": [
    "class BoxDataset(Dataset):\n",
    "\n",
    "    def __init__(self, dataframe, noise_level=0):\n",
    "        super().__init__()\n",
    "\n",
    "        self.df = dataframe\n",
    "        self.img_ids = dataframe['image_id'].unique()\n",
    "        self.source = self._initsource()\n",
    "        self.noise_level = noise_level\n",
    "\n",
    "    def __getitem__(self, index: int):\n",
    "\n",
    "        img_id = self.img_ids[index]\n",
    "        source = self.source[index]\n",
    "\n",
    "        records = self.df[self.df['image_id'] == img_id]\n",
    "\n",
    "        boxes = self._boxread(records)\n",
    "\n",
    "        boxes = distort(boxes, 1024, noise_level=self.noise_level)\n",
    "\n",
    "\n",
    "        return img_id, boxes, source\n",
    "\n",
    "    def __len__(self) -> int:\n",
    "        return self.img_ids.shape[0]\n",
    "\n",
    "    def _boxread(self, records):\n",
    "\n",
    "        boxes = np.zeros((len(records), 4))\n",
    "        boxes[:, 0:4] = records[['x', 'y', 'w', 'h']].values\n",
    "\n",
    "        # transform to xyxy\n",
    "        boxes[:, 2] = boxes[:, 0] + boxes[:, 2]\n",
    "        boxes[:, 3] = boxes[:, 1] + boxes[:, 3]\n",
    "\n",
    "        return boxes\n",
    "\n",
    "    def _initsource(self):\n",
    "\n",
    "        source = []\n",
    "        df = self.df.drop_duplicates('image_id')\n",
    "        for id in self.img_ids:\n",
    "            source.append(df[df['image_id'] == id]['source'].item())\n",
    "\n",
    "        return source\n",
    "        \n",
    "def get_xywh(train_df):\n",
    "    bboxs = np.stack(train_df['bbox'].apply(lambda x: np.fromstring(x[1:-1], sep=',')))\n",
    "    for i, column in enumerate(['x', 'y', 'w', 'h']):\n",
    "        train_df[column] = bboxs[:, i]\n",
    "    train_df.drop(columns=['bbox'], inplace=True)\n",
    "    return train_df\n",
    "\n",
    "def filter_bbox(train_df):\n",
    "    train_df['area'] = train_df['w'] * train_df['h']\n",
    "\n",
    "    area_list = train_df['area'].values.tolist()\n",
    "    area_list_copy = area_list.copy()\n",
    "    area_list_copy.sort(reverse=True)\n",
    "\n",
    "    for i in range(10):\n",
    "        index = area_list.index(area_list_copy[i])\n",
    "        train_df.drop([index], inplace=True)\n",
    "\n",
    "    train_df.index = range(len(train_df))\n",
    "    train_df.drop(columns=['area'], inplace=True)\n",
    "    return train_df"
   ]
  },
  {
   "cell_type": "code",
   "execution_count": 4,
   "metadata": {},
   "outputs": [
    {
     "output_type": "execute_result",
     "data": {
      "text/plain": [
       "         image_id  width  height     source      x      y      w      h\n",
       "0       b6ab77fd7   1024    1024    usask_1  834.0  222.0   56.0   36.0\n",
       "1       b6ab77fd7   1024    1024    usask_1  226.0  548.0  130.0   58.0\n",
       "2       b6ab77fd7   1024    1024    usask_1  377.0  504.0   74.0  160.0\n",
       "3       b6ab77fd7   1024    1024    usask_1  834.0   95.0  109.0  107.0\n",
       "4       b6ab77fd7   1024    1024    usask_1   26.0  144.0  124.0  117.0\n",
       "...           ...    ...     ...        ...    ...    ...    ...    ...\n",
       "147778  5e0747034   1024    1024  arvalis_2   64.0  619.0   84.0   95.0\n",
       "147779  5e0747034   1024    1024  arvalis_2  292.0  549.0  107.0   82.0\n",
       "147780  5e0747034   1024    1024  arvalis_2  134.0  228.0  141.0   71.0\n",
       "147781  5e0747034   1024    1024  arvalis_2  430.0   13.0  184.0   79.0\n",
       "147782  5e0747034   1024    1024  arvalis_2  875.0  740.0   94.0   61.0\n",
       "\n",
       "[147783 rows x 8 columns]"
      ],
      "text/html": "<div>\n<style scoped>\n    .dataframe tbody tr th:only-of-type {\n        vertical-align: middle;\n    }\n\n    .dataframe tbody tr th {\n        vertical-align: top;\n    }\n\n    .dataframe thead th {\n        text-align: right;\n    }\n</style>\n<table border=\"1\" class=\"dataframe\">\n  <thead>\n    <tr style=\"text-align: right;\">\n      <th></th>\n      <th>image_id</th>\n      <th>width</th>\n      <th>height</th>\n      <th>source</th>\n      <th>x</th>\n      <th>y</th>\n      <th>w</th>\n      <th>h</th>\n    </tr>\n  </thead>\n  <tbody>\n    <tr>\n      <th>0</th>\n      <td>b6ab77fd7</td>\n      <td>1024</td>\n      <td>1024</td>\n      <td>usask_1</td>\n      <td>834.0</td>\n      <td>222.0</td>\n      <td>56.0</td>\n      <td>36.0</td>\n    </tr>\n    <tr>\n      <th>1</th>\n      <td>b6ab77fd7</td>\n      <td>1024</td>\n      <td>1024</td>\n      <td>usask_1</td>\n      <td>226.0</td>\n      <td>548.0</td>\n      <td>130.0</td>\n      <td>58.0</td>\n    </tr>\n    <tr>\n      <th>2</th>\n      <td>b6ab77fd7</td>\n      <td>1024</td>\n      <td>1024</td>\n      <td>usask_1</td>\n      <td>377.0</td>\n      <td>504.0</td>\n      <td>74.0</td>\n      <td>160.0</td>\n    </tr>\n    <tr>\n      <th>3</th>\n      <td>b6ab77fd7</td>\n      <td>1024</td>\n      <td>1024</td>\n      <td>usask_1</td>\n      <td>834.0</td>\n      <td>95.0</td>\n      <td>109.0</td>\n      <td>107.0</td>\n    </tr>\n    <tr>\n      <th>4</th>\n      <td>b6ab77fd7</td>\n      <td>1024</td>\n      <td>1024</td>\n      <td>usask_1</td>\n      <td>26.0</td>\n      <td>144.0</td>\n      <td>124.0</td>\n      <td>117.0</td>\n    </tr>\n    <tr>\n      <th>...</th>\n      <td>...</td>\n      <td>...</td>\n      <td>...</td>\n      <td>...</td>\n      <td>...</td>\n      <td>...</td>\n      <td>...</td>\n      <td>...</td>\n    </tr>\n    <tr>\n      <th>147778</th>\n      <td>5e0747034</td>\n      <td>1024</td>\n      <td>1024</td>\n      <td>arvalis_2</td>\n      <td>64.0</td>\n      <td>619.0</td>\n      <td>84.0</td>\n      <td>95.0</td>\n    </tr>\n    <tr>\n      <th>147779</th>\n      <td>5e0747034</td>\n      <td>1024</td>\n      <td>1024</td>\n      <td>arvalis_2</td>\n      <td>292.0</td>\n      <td>549.0</td>\n      <td>107.0</td>\n      <td>82.0</td>\n    </tr>\n    <tr>\n      <th>147780</th>\n      <td>5e0747034</td>\n      <td>1024</td>\n      <td>1024</td>\n      <td>arvalis_2</td>\n      <td>134.0</td>\n      <td>228.0</td>\n      <td>141.0</td>\n      <td>71.0</td>\n    </tr>\n    <tr>\n      <th>147781</th>\n      <td>5e0747034</td>\n      <td>1024</td>\n      <td>1024</td>\n      <td>arvalis_2</td>\n      <td>430.0</td>\n      <td>13.0</td>\n      <td>184.0</td>\n      <td>79.0</td>\n    </tr>\n    <tr>\n      <th>147782</th>\n      <td>5e0747034</td>\n      <td>1024</td>\n      <td>1024</td>\n      <td>arvalis_2</td>\n      <td>875.0</td>\n      <td>740.0</td>\n      <td>94.0</td>\n      <td>61.0</td>\n    </tr>\n  </tbody>\n</table>\n<p>147783 rows × 8 columns</p>\n</div>"
     },
     "metadata": {},
     "execution_count": 4
    }
   ],
   "source": [
    "get_xywh(ori_df)\n",
    "filter_bbox(ori_df)"
   ]
  },
  {
   "cell_type": "code",
   "execution_count": 9,
   "metadata": {},
   "outputs": [
    {
     "output_type": "stream",
     "name": "stderr",
     "text": [
      "100%|██████████| 3373/3373 [01:49<00:00, 30.79it/s]\n",
      "100%|██████████| 3373/3373 [01:48<00:00, 31.05it/s]\n",
      "100%|██████████| 3373/3373 [01:48<00:00, 31.05it/s]\n"
     ]
    }
   ],
   "source": [
    "for noise_level in [1, 2 ,3]:\n",
    "    set = BoxDataset(ori_df, noise_level)\n",
    "    result = []\n",
    "    for i, (img_id, boxes, source) in tqdm(enumerate(set), total=len(set)):\n",
    "        for box in boxes:\n",
    "            box[2] = box[2] - box[0]\n",
    "            box[3] = box[3] - box[1]\n",
    "            result.append([img_id, 1024, 1024, box.tolist(), source])\n",
    "    new = pd.DataFrame(result, columns = ['image_id', 'width', 'height', 'bbox', 'source'])\n",
    "    new.to_csv(f'noiselevel{noise_level}.csv', index=False)"
   ]
  },
  {
   "cell_type": "code",
   "execution_count": 25,
   "metadata": {},
   "outputs": [
    {
     "output_type": "execute_result",
     "data": {
      "text/plain": [
       "0.04553440015722887"
      ]
     },
     "metadata": {},
     "execution_count": 25
    }
   ],
   "source": [
    "np.random.rand() * 0.2"
   ]
  },
  {
   "cell_type": "code",
   "execution_count": null,
   "metadata": {},
   "outputs": [],
   "source": []
  }
 ]
}