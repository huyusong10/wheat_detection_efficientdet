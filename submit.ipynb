{
 "cells": [
  {
   "cell_type": "code",
   "execution_count": 1,
   "metadata": {
    "_cell_guid": "79c7e3d0-c299-4dcb-8224-4455121ee9b0",
    "_uuid": "d629ff2d2480ee46fbb7e2d37f6b5fab8052498a"
   },
   "outputs": [],
   "source": [
    "import sys\n",
    "sys.path.insert(0, '/kaggle/input/wheatdetection/wheat_detection')\n",
    "import os\n",
    "\n",
    "import torch\n",
    "from torch.backends import cudnn\n",
    "\n",
    "from backbone import EfficientDetBackbone\n",
    "import cv2\n",
    "import matplotlib.pyplot as plt\n",
    "import numpy as np\n",
    "import pandas as pd\n",
    "\n",
    "from efficientdet.utils import BBoxTransform, ClipBoxes\n",
    "from utils.utils import preprocess, invert_affine, postprocess"
   ]
  },
  {
   "cell_type": "code",
   "execution_count": 2,
   "metadata": {},
   "outputs": [],
   "source": [
    "compound_coef = 0\n",
    "imgs_dir = '../input/global-wheat-detection/test'\n",
    "threshold = 0.3\n",
    "iou_threshold = 0.2\n",
    "input_size = 512\n",
    "use_cuda = True"
   ]
  },
  {
   "cell_type": "code",
   "execution_count": 3,
   "metadata": {},
   "outputs": [],
   "source": [
    "model = EfficientDetBackbone(compound_coef=compound_coef, num_classes=1,\n",
    "                             ratios=[(1.0, 1.0), (1.4, 0.7), (0.7, 1.4)],\n",
    "                             scales=[2 ** 0, 2 ** (1.0 / 3.0), 2 ** (2.0 / 3.0)])\n",
    "\n",
    "if use_cuda:\n",
    "    model.load_state_dict(torch.load('../input/wheatdetection/wheat_detection/pth/final_stage.pth', map_location=torch.device('cuda')))\n",
    "else:\n",
    "    model.load_state_dict(torch.load('../input/wheatdetection/wheat_detection/pth/final_stage.pth', map_location=torch.device('cpu')))\n",
    "model.requires_grad_(False)\n",
    "model.eval()\n",
    "if use_cuda:\n",
    "    model = model.cuda()"
   ]
  },
  {
   "cell_type": "code",
   "execution_count": 4,
   "metadata": {},
   "outputs": [],
   "source": [
    "def format_prediction_string(boxes, scores):\n",
    "    pred_strings = []\n",
    "    for j in zip(scores, boxes):\n",
    "        pred_strings.append(\"{0:.4f} {1} {2} {3} {4}\".format(j[0], j[1][0], j[1][1], j[1][2], j[1][3]))\n",
    "    return \" \".join(pred_strings)"
   ]
  },
  {
   "cell_type": "code",
   "execution_count": 5,
   "metadata": {},
   "outputs": [],
   "source": [
    "results=[]\n",
    "for img_dir in os.listdir(imgs_dir):\n",
    "    if not img_dir.endswith('.jpg'):\n",
    "        continue\n",
    "    full_dir = os.path.join(imgs_dir, img_dir)\n",
    "    ori_imgs, framed_imgs, framed_metas = preprocess(full_dir, max_size=input_size)\n",
    "    if use_cuda:\n",
    "        x = torch.stack([torch.from_numpy(fi).cuda() for fi in framed_imgs], 0)\n",
    "    else:\n",
    "        x = torch.stack([torch.from_numpy(fi) for fi in framed_imgs], 0)\n",
    "    x = x.to(torch.float32).permute(0, 3, 1, 2)\n",
    "    with torch.no_grad():\n",
    "        features, regression, classification, anchors = model(x)\n",
    "\n",
    "        regressBoxes = BBoxTransform()\n",
    "        clipBoxes = ClipBoxes()\n",
    "        out = postprocess(x,\n",
    "                          anchors, regression, classification,\n",
    "                          regressBoxes, clipBoxes,\n",
    "                          threshold, iou_threshold)\n",
    "    out = invert_affine(framed_metas, out)\n",
    "    \n",
    "    for i in range(len(ori_imgs)):\n",
    "        if len(out[i]['rois']) == 0:\n",
    "            result = {\n",
    "                'image_id': img_dir.split('.')[0],\n",
    "                'PredictionString': ''\n",
    "            }\n",
    "            results.append(result)\n",
    "            continue\n",
    "        boxes = out[i]['rois'].astype(np.int)\n",
    "        scores = out[i]['scores'].astype(np.float16)\n",
    "\n",
    "        boxes[:, 2] = boxes[:, 2] - boxes[:, 0]\n",
    "        boxes[:, 3] = boxes[:, 3] - boxes[:, 1]\n",
    "\n",
    "        result = {\n",
    "            'image_id': img_dir.split('.')[0],\n",
    "            'PredictionString': format_prediction_string(boxes, scores)\n",
    "        }\n",
    "        results.append(result)"
   ]
  },
  {
   "cell_type": "code",
   "execution_count": 6,
   "metadata": {},
   "outputs": [
    {
     "data": {
      "text/html": [
       "<div>\n",
       "<style scoped>\n",
       "    .dataframe tbody tr th:only-of-type {\n",
       "        vertical-align: middle;\n",
       "    }\n",
       "\n",
       "    .dataframe tbody tr th {\n",
       "        vertical-align: top;\n",
       "    }\n",
       "\n",
       "    .dataframe thead th {\n",
       "        text-align: right;\n",
       "    }\n",
       "</style>\n",
       "<table border=\"1\" class=\"dataframe\">\n",
       "  <thead>\n",
       "    <tr style=\"text-align: right;\">\n",
       "      <th></th>\n",
       "      <th>image_id</th>\n",
       "      <th>PredictionString</th>\n",
       "    </tr>\n",
       "  </thead>\n",
       "  <tbody>\n",
       "    <tr>\n",
       "      <th>0</th>\n",
       "      <td>51b3e36ab</td>\n",
       "      <td>0.9868 496 359 319 123 0.9800 112 840 148 93 0...</td>\n",
       "    </tr>\n",
       "    <tr>\n",
       "      <th>1</th>\n",
       "      <td>51f1be19e</td>\n",
       "      <td>0.9258 770 884 146 104 0.8970 846 272 129 190 ...</td>\n",
       "    </tr>\n",
       "    <tr>\n",
       "      <th>2</th>\n",
       "      <td>cc3532ff6</td>\n",
       "      <td>0.9917 775 825 166 166 0.9771 377 1 84 96 0.96...</td>\n",
       "    </tr>\n",
       "    <tr>\n",
       "      <th>3</th>\n",
       "      <td>348a992bb</td>\n",
       "      <td>0.9868 733 216 140 87 0.9624 138 37 116 83 0.9...</td>\n",
       "    </tr>\n",
       "    <tr>\n",
       "      <th>4</th>\n",
       "      <td>53f253011</td>\n",
       "      <td>0.9722 306 60 91 126 0.9722 230 833 118 103 0....</td>\n",
       "    </tr>\n",
       "  </tbody>\n",
       "</table>\n",
       "</div>"
      ],
      "text/plain": [
       "    image_id                                   PredictionString\n",
       "0  51b3e36ab  0.9868 496 359 319 123 0.9800 112 840 148 93 0...\n",
       "1  51f1be19e  0.9258 770 884 146 104 0.8970 846 272 129 190 ...\n",
       "2  cc3532ff6  0.9917 775 825 166 166 0.9771 377 1 84 96 0.96...\n",
       "3  348a992bb  0.9868 733 216 140 87 0.9624 138 37 116 83 0.9...\n",
       "4  53f253011  0.9722 306 60 91 126 0.9722 230 833 118 103 0...."
      ]
     },
     "execution_count": 6,
     "metadata": {},
     "output_type": "execute_result"
    }
   ],
   "source": [
    "test_df = pd.DataFrame(results, columns=['image_id', 'PredictionString'])\n",
    "test_df.head()"
   ]
  },
  {
   "cell_type": "code",
   "execution_count": 7,
   "metadata": {},
   "outputs": [],
   "source": [
    "test_df.to_csv(r'/kaggle/working/submission.csv', index=False)"
   ]
  }
 ],
 "metadata": {
  "kernelspec": {
   "display_name": "Python 3",
   "language": "python",
   "name": "python3"
  },
  "language_info": {
   "codemirror_mode": {
    "name": "ipython",
    "version": 3
   },
   "file_extension": ".py",
   "mimetype": "text/x-python",
   "name": "python",
   "nbconvert_exporter": "python",
   "pygments_lexer": "ipython3",
   "version": "3.7.6"
  }
 },
 "nbformat": 4,
 "nbformat_minor": 4
}
